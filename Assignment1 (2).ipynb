{
 "cells": [
  {
   "cell_type": "markdown",
   "id": "cdf54cdb",
   "metadata": {},
   "source": [
    "1. There are 3 values and 4 expressions\n",
    "Values: 'hello', -87.8, 6\n",
    "Expressions: *, _, +, /"
   ]
  },
  {
   "cell_type": "markdown",
   "id": "dde1e579",
   "metadata": {},
   "source": [
    "2. A string is a value assigned to a variable enclosed in single/double quotes ('/\"). A string can be a single character, words, sentences or even an integer. Whereas a variable is an entity to which certain value is assigned/ is stored to process in a run-time later. \n",
    "For ex: name = 'Suresh', here name is a varible whereas Suresh is a string value assigned to that particular variable."
   ]
  },
  {
   "cell_type": "markdown",
   "id": "90b6422f",
   "metadata": {},
   "source": [
    "3. a. int: This data type is used to represent integers/whole numbers.\n",
    "   b. float: This data type is used to represnt decimal/fracrtional numbers.\n",
    "   c. boolean: This data type is used to represent True/False arguement."
   ]
  },
  {
   "cell_type": "markdown",
   "id": "5b306ea0",
   "metadata": {},
   "source": [
    "4. An expression is a combination of values, variables, operators and/or call to functions. \n",
    "Expressions need to be evaluated which the interpreter does and displays the result when asked to."
   ]
  },
  {
   "cell_type": "markdown",
   "id": "2777dd50",
   "metadata": {},
   "source": [
    "5.  An expression is a combination of values, variables, operators and/or call to functions which has some value which the interpreter evaluates. Whereas a statement is a unit of code that has an effect in the piece of program, which the interpreter follows. Statements dont have any values to be evaluated."
   ]
  },
  {
   "cell_type": "markdown",
   "id": "9b3dde7a",
   "metadata": {},
   "source": [
    "6. The variable bacon contains value 23. "
   ]
  },
  {
   "cell_type": "markdown",
   "id": "c011a054",
   "metadata": {},
   "source": [
    "7. the value of both the terms is 'spamspamspam'. "
   ]
  },
  {
   "cell_type": "markdown",
   "id": "4ee29ec0",
   "metadata": {},
   "source": [
    "8. A variable should start with a letter or an underscore and cannot start with a number. So here 'eggs' starts with an E so it is valid whereas 100 is an interger so it is invalid to use as a variable name."
   ]
  },
  {
   "cell_type": "markdown",
   "id": "1f7b113b",
   "metadata": {},
   "source": [
    "9. The 3 functions that can be used to get the integer, floating-point number or sting version of a value are int(), float() and str() respectively."
   ]
  },
  {
   "cell_type": "markdown",
   "id": "fca4a68f",
   "metadata": {},
   "source": [
    "10. One cannot concantenate an integer with a string directly without using a conversion function. The correct way to do so would be\n",
    "\n",
    "'I have eaten' +str(99)+ 'burritos.'"
   ]
  }
 ],
 "metadata": {
  "kernelspec": {
   "display_name": "Python 3 (ipykernel)",
   "language": "python",
   "name": "python3"
  },
  "language_info": {
   "codemirror_mode": {
    "name": "ipython",
    "version": 3
   },
   "file_extension": ".py",
   "mimetype": "text/x-python",
   "name": "python",
   "nbconvert_exporter": "python",
   "pygments_lexer": "ipython3",
   "version": "3.9.12"
  }
 },
 "nbformat": 4,
 "nbformat_minor": 5
}
