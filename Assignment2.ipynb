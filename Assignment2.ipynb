{
 "cells": [
  {
   "cell_type": "markdown",
   "id": "f3d2e0a4",
   "metadata": {},
   "source": [
    "**1. What are the two values of the boolean data types? how do you write them?** <br>\n",
    "**Ans.** `True` and `False` are the two vales of the boolean data type. They are written with a capital ***T*** and ***F*** respectievely followed by the rest of the words in lower case.\n",
    "True\n",
    "False"
   ]
  },
  {
   "cell_type": "markdown",
   "id": "7bda7243",
   "metadata": {},
   "source": [
    "**2. What are the three different types of Boolean operators?**<br>\n",
    "**Ans.** The three types of boolean operators are `and`, `or`, `not`."
   ]
  },
  {
   "cell_type": "markdown",
   "id": "6c9cccb7",
   "metadata": {},
   "source": [
    "**3. Make a list of each Boolean operator's truth tables (i.e. every possible combination of Boolean values for the operator and what it evaluate)?**<br>\n",
    "**Ans.** \n",
    "  > **1.Truth table for `and` operator:**<br>\n",
    "    True and True = True<br>\n",
    "    True and False = False<br>\n",
    "    False and True = False<br>\n",
    "    False and False = False<br>\n",
    "  > **2.Truth table for `or` operator:**<br>\n",
    "    Ture or True = True<br>\n",
    "    True or False = True<br>\n",
    "    False or True = True<br>\n",
    "    False or False = False<br>\n",
    "  > **3.Truth table for `not` operator:**<br>\n",
    "    not(True) = False<br>\n",
    "    not(False) = True<br>"
   ]
  },
  {
   "cell_type": "markdown",
   "id": "5919e06d",
   "metadata": {},
   "source": [
    "**4. What are the values of the following expressions?**<br>\n",
    " **Ans.**<br>\n",
    "  >*  (5 > 4) and (3 == 5): *False* <br>\n",
    "  >*  not (5 > 4): *Fasle* <br>\n",
    "  >*  (5 > 4) or (3 == 5): *True* <br>\n",
    "  >*  not ((5 > 4) or (3 == 5)): *Fasle* <br>\n",
    "  >*  (True and True) and (True == False): *Fasle* <br>\n",
    "  >*  (not False) or (not True): *True* <br>"
   ]
  },
  {
   "cell_type": "code",
   "execution_count": 19,
   "id": "ebcb6c8e",
   "metadata": {},
   "outputs": [
    {
     "name": "stdout",
     "output_type": "stream",
     "text": [
      "False\n",
      "False\n",
      "True\n",
      "False\n",
      "False\n",
      "True\n"
     ]
    }
   ],
   "source": [
    "print((5 > 4) and (3 == 5)) \n",
    "print(not (5 > 4))\n",
    "print((5 > 4) or (3 == 5))\n",
    "print(not ((5 > 4) or (3 == 5)))\n",
    "print((True and True) and (True == False))\n",
    "print((not False) or (not True))"
   ]
  },
  {
   "cell_type": "markdown",
   "id": "1ec547a3",
   "metadata": {},
   "source": [
    "**5. What are the six comparison operators?**<br>\n",
    "**Ans.** The six comparision opeators are:<br>\n",
    "   *  `==` (Equal to)\n",
    "   *  `!=` (Not Equal to)\n",
    "   *  `>`(Greater than)\n",
    "   *  `<` (Less than)\n",
    "   *  `>=` (Greater than or Equal to)\n",
    "   *  `<=` (Less than or Equal to)"
   ]
  },
  {
   "cell_type": "markdown",
   "id": "48ae511f",
   "metadata": {},
   "source": [
    "**6. How do you tell the difference between the equal to and assignment operators?Describe a condition and when you would use one?**<br>\n",
    "**Ans.** When two equals to(`==`) sign is used, it is denoted as a comparision operator. When only one equals to(`=`) sign is used, it is denoted as assignment operator. Example below:"
   ]
  },
  {
   "cell_type": "code",
   "execution_count": 7,
   "id": "95daa415",
   "metadata": {},
   "outputs": [
    {
     "name": "stdout",
     "output_type": "stream",
     "text": [
      "True\n"
     ]
    }
   ],
   "source": [
    "a=5 #assignment operator\n",
    "if a==5:    #Comparision operator\n",
    "    print(True)"
   ]
  },
  {
   "cell_type": "markdown",
   "id": "6856f98b",
   "metadata": {},
   "source": [
    "**7. Identify the three blocks in this code:**<br>\n",
    "spam = 0<br>\n",
    "if spam == 10:<br>\n",
    "print('eggs')<br>\n",
    "if spam > 5:<br>\n",
    "print('bacon')<br>\n",
    "else:<br>\n",
    "print('ham')<br>\n",
    "print('spam')<br>\n",
    "print('spam')<br>\n",
    "\n",
    "**Ans.** The 3 blocks in this code are:<br>\n",
    "    a. `if spam == 10:`<br>\n",
    "    b. `if spam > 5:`<br>\n",
    "    c. `else:`<br>\n",
    "    Code blocks means is a piece of program that can be executed as a unit. It is a part of large program.  "
   ]
  },
  {
   "cell_type": "markdown",
   "id": "9997de72",
   "metadata": {},
   "source": [
    "**8. Write code that prints Hello if 1 is stored in spam, prints Howdy if 2 is stored in spam, and prints Greetings! if anything else is stored in spam.**\n",
    "**Ans.**"
   ]
  },
  {
   "cell_type": "code",
   "execution_count": 26,
   "id": "67c9ae13",
   "metadata": {},
   "outputs": [
    {
     "name": "stdout",
     "output_type": "stream",
     "text": [
      "Hello\n",
      "Howdy\n",
      "Greetings\n"
     ]
    }
   ],
   "source": [
    "def Code(spam):\n",
    "    if spam==1:\n",
    "        print(\"Hello\")\n",
    "    elif spam==2:\n",
    "        print(\"Howdy\")\n",
    "    else:\n",
    "        print(\"Greetings\")\n",
    "    \n",
    "Code(1)\n",
    "Code(2)\n",
    "Code(56)"
   ]
  },
  {
   "cell_type": "markdown",
   "id": "226bc25c",
   "metadata": {},
   "source": [
    "**9. If your programme is stuck in an endless loop, what keys you’ll press?**<br>\n",
    "**Ans.** Press `Crtl + C` to break out of an endless loop."
   ]
  },
  {
   "cell_type": "markdown",
   "id": "586b6915",
   "metadata": {},
   "source": [
    "**10. How can you tell the difference between break and continue?**<br>\n",
    "**Ans.** The `break` statement stops the iterations of the loop once the condition is satisfied. The `continue` statement continues the iteration initiating the start of loop again from the start point."
   ]
  },
  {
   "cell_type": "markdown",
   "id": "d9eeda30",
   "metadata": {},
   "source": [
    "**11. In a for loop, what is the difference between range(10), range(0, 10), and range(0, 10, 1)?**<br>\n",
    "**Ans.** The Differences are as follows:<br>\n",
    "\n",
    "    1.The range(10) call range from 0 to 9 (but not include 10)<br>\n",
    "    2.The range (0,10) explicitly tells the loop to start at 0<br>\n",
    "    3.The range(0,10,1) explicitly tells the loop to increase the variable by 1 on each iteration<br>"
   ]
  },
  {
   "cell_type": "markdown",
   "id": "a03f8669",
   "metadata": {},
   "source": [
    "**12. Write a short program that prints the numbers 1 to 10 using a for loop. Then write an equivalent program that prints the numbers 1 to 10 using a while loop?**<br>\n",
    "**Ans.**"
   ]
  },
  {
   "cell_type": "code",
   "execution_count": 24,
   "id": "fcd177f4",
   "metadata": {},
   "outputs": [
    {
     "name": "stdout",
     "output_type": "stream",
     "text": [
      "0 1 2 3 4 5 6 7 8 9 10 "
     ]
    }
   ],
   "source": [
    "#Using for loop:\n",
    "for x in range(0,11):\n",
    "    print(x, end=\" \")"
   ]
  },
  {
   "cell_type": "code",
   "execution_count": 21,
   "id": "d8eb4047",
   "metadata": {},
   "outputs": [
    {
     "name": "stdout",
     "output_type": "stream",
     "text": [
      "0 1 2 3 4 5 6 7 8 9 10 "
     ]
    }
   ],
   "source": [
    "#Using while loop:\n",
    "i=0\n",
    "while i <= 10:\n",
    "    print(i, end=\" \")\n",
    "    i+=1\n",
    "    "
   ]
  },
  {
   "cell_type": "markdown",
   "id": "42df09e6",
   "metadata": {},
   "source": [
    "**13. If you had a function named bacon() inside a module named spam, how would you call it after importing spam?**<br>\n",
    "**Ans.** The function can be called as: sapm.bacon()"
   ]
  }
 ],
 "metadata": {
  "kernelspec": {
   "display_name": "Python 3 (ipykernel)",
   "language": "python",
   "name": "python3"
  },
  "language_info": {
   "codemirror_mode": {
    "name": "ipython",
    "version": 3
   },
   "file_extension": ".py",
   "mimetype": "text/x-python",
   "name": "python",
   "nbconvert_exporter": "python",
   "pygments_lexer": "ipython3",
   "version": "3.9.12"
  }
 },
 "nbformat": 4,
 "nbformat_minor": 5
}
