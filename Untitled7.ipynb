{
 "cells": [
  {
   "cell_type": "markdown",
   "id": "088f5532",
   "metadata": {},
   "source": [
    "1.What are the two values of the boolean data types? how do you write them?\n",
    "Ans. True and False are the two vales of the boolean data type. They are written with a capital T and F respectievely followed by the rest of the words in lower case.\n",
    "True\n",
    "False"
   ]
  },
  {
   "cell_type": "markdown",
   "id": "56a85a68",
   "metadata": {},
   "source": [
    "2. What are the three different types of Boolean operators?\n",
    "Ans. The three types of boolean operators are and, or, not."
   ]
  },
  {
   "cell_type": "markdown",
   "id": "cb1c8ed9",
   "metadata": {},
   "source": [
    "3. Make a list of each Boolean operator's truth tables (i.e. every possible combination of Boolean values for the operator and what it evaluate)?\n",
    "Ans.\n",
    "    1.Truth table for and operator:\n",
    "        True and True = True\n",
    "        True and False = False\n",
    "        False and True = False\n",
    "        False and False = False\n",
    "    2.Truth table for or operator:\n",
    "        Ture or True = True\n",
    "        True or False = True\n",
    "        False or True = True\n",
    "        False or False = False\n",
    "    3.Truth table for not operator\n",
    "        not(True) = False\n",
    "        not(False) = True"
   ]
  },
  {
   "cell_type": "markdown",
   "id": "0e1139cf",
   "metadata": {},
   "source": [
    "4. What are the values of the following expressions?\n",
    " Ans.(5 > 4) and (3 == 5): False\n",
    "     not (5 > 4): Fasle\n",
    "     (5 > 4) or (3 == 5): True\n",
    "     not ((5 > 4) or (3 == 5)): Fasle\n",
    "     (True and True) and (True == False): Fasle\n",
    "     (not False) or (not True): True"
   ]
  },
  {
   "cell_type": "code",
   "execution_count": 4,
   "id": "6329f77b",
   "metadata": {},
   "outputs": [
    {
     "name": "stdout",
     "output_type": "stream",
     "text": [
      "False\n",
      "False\n",
      "True\n",
      "False\n",
      "False\n",
      "True\n"
     ]
    }
   ],
   "source": [
    "print((5 > 4) and (3 == 5)) \n",
    "print(not (5 > 4))\n",
    "print((5 > 4) or (3 == 5))\n",
    "print(not ((5 > 4) or (3 == 5)))\n",
    "print((True and True) and (True == False))\n",
    "print((not False) or (not True))"
   ]
  },
  {
   "cell_type": "markdown",
   "id": "1e3538e8",
   "metadata": {},
   "source": [
    "5. What are the six comparison operators?\n",
    "Ans. The six comparision opeators are: \n",
    "        a. == (Equal to)\n",
    "        b. != (Not Equal to)\n",
    "        c. > (Greater than)\n",
    "        d. < (Less than)\n",
    "        e. >= (Greater than or Equal to)\n",
    "        f. <= (Less than or Equal to)"
   ]
  },
  {
   "cell_type": "markdown",
   "id": "0a7d5d41",
   "metadata": {},
   "source": [
    "6. How do you tell the difference between the equal to and assignment operators?Describe a condition and when you would use one?\n",
    "Ans. When two equals to(==) sign is used, it is denoted as a comparision operator. When only one equals to(=) sign is used, it is denoted as assignment operator. Example below:"
   ]
  },
  {
   "cell_type": "code",
   "execution_count": 7,
   "id": "8f103ab7",
   "metadata": {},
   "outputs": [
    {
     "name": "stdout",
     "output_type": "stream",
     "text": [
      "True\n"
     ]
    }
   ],
   "source": [
    "a=5 #assignment operator\n",
    "if a==5:    #Comparision operator\n",
    "    print(True)"
   ]
  },
  {
   "cell_type": "markdown",
   "id": "e50ed719",
   "metadata": {},
   "source": [
    "7. Identify the three blocks in this code:\n",
    "spam = 0\n",
    "if spam == 10:\n",
    "print('eggs')\n",
    "if spam > 5:\n",
    "print('bacon')\n",
    "else:\n",
    "print('ham')\n",
    "print('spam')\n",
    "print('spam')\n",
    "\n",
    "Ans. The 3 blocks in this code are:\n",
    "    a. if spam == 10:\n",
    "    b. if spam > 5:\n",
    "    c. else:\n",
    "    Code blocks means is a piece of program that can be executed as a unit. It is a part of large program.  "
   ]
  },
  {
   "cell_type": "markdown",
   "id": "68fc71a5",
   "metadata": {},
   "source": [
    "8. Write code that prints Hello if 1 is stored in spam, prints Howdy if 2 is stored in spam, and prints Greetings! if anything else is stored in spam."
   ]
  },
  {
   "cell_type": "code",
   "execution_count": 12,
   "id": "c89b7fc9",
   "metadata": {},
   "outputs": [
    {
     "name": "stdout",
     "output_type": "stream",
     "text": [
      "Hello\n",
      "Howdy\n",
      "Greetings\n"
     ]
    }
   ],
   "source": [
    "def spamCode(spam):\n",
    "    if spam==1:\n",
    "        print(\"Hello\")\n",
    "    elif spam==2:\n",
    "        print(\"Howdy\")\n",
    "    else:\n",
    "        print(\"Greetings\")\n",
    "    \n",
    "spamCode(1)\n",
    "spamCode(2)\n",
    "spamCode(56)"
   ]
  },
  {
   "cell_type": "markdown",
   "id": "a3f502af",
   "metadata": {},
   "source": [
    "9.If your programme is stuck in an endless loop, what keys you’ll press?\n",
    "Ans. Press Crtl + C to break out of an endless loop."
   ]
  },
  {
   "cell_type": "markdown",
   "id": "c512e367",
   "metadata": {},
   "source": [
    "10. How can you tell the difference between break and continue?\n",
    "Ans. The break statement stops the iterations of the loop once the condition is satisfied. The continue statement continues the iteration initiating the start of loop again from the start point."
   ]
  },
  {
   "cell_type": "markdown",
   "id": "6819b010",
   "metadata": {},
   "source": [
    "11. In a for loop, what is the difference between range(10), range(0, 10), and range(0, 10, 1)?\n",
    "Ans. The Differences are as follows:\n",
    "\n",
    "    1.The range(10) call range from 0 to 9 (but not include 10)\n",
    "    2.The range (0,10) explicitly tells the loop to start at 0\n",
    "    3.The range(0,10,1) explicitly tells the loop to increase the variable by 1 on each iteration"
   ]
  },
  {
   "cell_type": "markdown",
   "id": "795f5dc2",
   "metadata": {},
   "source": [
    "12. Write a short program that prints the numbers 1 to 10 using a for loop. Then write an equivalent program that prints the numbers 1 to 10 using a while loop ?"
   ]
  },
  {
   "cell_type": "code",
   "execution_count": 15,
   "id": "9cd5541a",
   "metadata": {},
   "outputs": [
    {
     "name": "stdout",
     "output_type": "stream",
     "text": [
      "0\n",
      "1\n",
      "2\n",
      "3\n",
      "4\n",
      "5\n",
      "6\n",
      "7\n",
      "8\n",
      "9\n",
      "10\n"
     ]
    }
   ],
   "source": [
    "for x in range(0,11):\n",
    "    print(x)"
   ]
  },
  {
   "cell_type": "code",
   "execution_count": 17,
   "id": "1d5e62d8",
   "metadata": {},
   "outputs": [
    {
     "name": "stdout",
     "output_type": "stream",
     "text": [
      "0\n",
      "1\n",
      "2\n",
      "3\n",
      "4\n",
      "5\n",
      "6\n",
      "7\n",
      "8\n",
      "9\n",
      "10\n"
     ]
    }
   ],
   "source": [
    "i=0\n",
    "while i <= 10:\n",
    "    print(i)\n",
    "    i+=1\n",
    "    "
   ]
  },
  {
   "cell_type": "markdown",
   "id": "a0ba8d36",
   "metadata": {},
   "source": [
    "13. If you had a function named bacon() inside a module named spam, how would you call it after importing spam ?\n",
    "Ans. The function can be called as : sapm.bacon()"
   ]
  },
  {
   "cell_type": "code",
   "execution_count": null,
   "id": "c3f5e338",
   "metadata": {},
   "outputs": [],
   "source": []
  }
 ],
 "metadata": {
  "kernelspec": {
   "display_name": "Python 3 (ipykernel)",
   "language": "python",
   "name": "python3"
  },
  "language_info": {
   "codemirror_mode": {
    "name": "ipython",
    "version": 3
   },
   "file_extension": ".py",
   "mimetype": "text/x-python",
   "name": "python",
   "nbconvert_exporter": "python",
   "pygments_lexer": "ipython3",
   "version": "3.9.12"
  }
 },
 "nbformat": 4,
 "nbformat_minor": 5
}
