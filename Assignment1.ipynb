{
 "cells": [
  {
   "cell_type": "raw",
   "id": "98af5057",
   "metadata": {},
   "source": [
    "1. There are 3 values and 4 expressions\n",
    "Values: 'hello', -87.8, 6\n",
    "Expressions: *, _, +, /"
   ]
  },
  {
   "cell_type": "raw",
   "id": "512c259d",
   "metadata": {},
   "source": [
    "2. A string is a value assigned to a variable enclosed in single/double quotes ('/\"). A string can be a single character, words, sentences or even an integer. Whereas a variable is an entity to which certain value is assigned/ is stored to process in a run-time later. \n",
    "For ex: name = 'Suresh', here name is a varible whereas Suresh is a string value assigned to that particular variable."
   ]
  },
  {
   "cell_type": "raw",
   "id": "8c6cfb04",
   "metadata": {},
   "source": [
    "3. a. int: This data type is used to represent integers/whole numbers.\n",
    "   b. float: This data type is used to represnt decimal/fracrtional numbers.\n",
    "   c. boolean: This data type is used to represent True/False arguement."
   ]
  },
  {
   "cell_type": "raw",
   "id": "7e4a5f65",
   "metadata": {},
   "source": [
    "4. An expression is a combination of values, variables, operators and/or call to functions. \n",
    "Expressions need to be evaluated which the interpreter does and displays the result when asked to."
   ]
  },
  {
   "cell_type": "raw",
   "id": "6cdee02b",
   "metadata": {},
   "source": [
    "5.  An expression is a combination of values, variables, operators and/or call to functions which has some value which the interpreter evaluates. Whereas a statement is a unit of code that has an effect in the piece of program, which the interpreter follows. Statements dont have any values to be evaluated."
   ]
  },
  {
   "cell_type": "raw",
   "id": "0452164b",
   "metadata": {},
   "source": [
    "6. The variable bacon contains value 23. "
   ]
  },
  {
   "cell_type": "raw",
   "id": "42a0920d",
   "metadata": {},
   "source": [
    "7. the value of both the terms is 'spamspamspam'. "
   ]
  },
  {
   "cell_type": "raw",
   "id": "30b29d88",
   "metadata": {},
   "source": [
    "8. A variable should start with a letter or an underscore and cannot start with a number. So here 'eggs' starts with an E so it is valid whereas 100 is an interger so it is invalid to use as a variable name."
   ]
  },
  {
   "cell_type": "raw",
   "id": "6eb97b65",
   "metadata": {},
   "source": [
    "9. The 3 functions that can be used to get the integer, floating-point number or sting version of a value are int(), float() and str() respectively."
   ]
  },
  {
   "cell_type": "raw",
   "id": "77a6b0ad",
   "metadata": {},
   "source": [
    "10. One cannot concantenate an integer with a string directly without using a conversion function. The correct way to do so would be\n",
    "\n",
    "'I have eaten' +str(99)+ 'burritos.'"
   ]
  }
 ],
 "metadata": {
  "kernelspec": {
   "display_name": "Python 3 (ipykernel)",
   "language": "python",
   "name": "python3"
  },
  "language_info": {
   "codemirror_mode": {
    "name": "ipython",
    "version": 3
   },
   "file_extension": ".py",
   "mimetype": "text/x-python",
   "name": "python",
   "nbconvert_exporter": "python",
   "pygments_lexer": "ipython3",
   "version": "3.9.12"
  }
 },
 "nbformat": 4,
 "nbformat_minor": 5
}
