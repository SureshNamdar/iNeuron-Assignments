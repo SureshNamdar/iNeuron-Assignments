{
 "cells": [
  {
   "cell_type": "markdown",
   "id": "f14702ff",
   "metadata": {},
   "source": [
    "1: There are 3 values and 4 expressions.\n",
    "\n",
    "   Values: 'hello', -87.8, 6.\n",
    "   \n",
    "   Expressions: *, _, +, /.\n",
    "\n",
    "2: A string is a value assigned to a variable enclosed in single/double quotes ('/\"). A string can be a single character, words, sentences or even an integer. Whereas a variable is an entity to which certain value is assigned/ is stored to process in a run-time later. \n",
    "For ex: name = 'Suresh', here name is a varible whereas Suresh is a string value assigned to that particular variable.\n",
    "\n",
    "3: A. int: This data type is used to represent integers/whole numbers.\n",
    "\n",
    "   B. float: This data type is used to represnt decimal/fracrtional numbers.  \n",
    "   \n",
    "   C. boolean: This data type is used to represent True/False arguement.\n",
    "\n",
    "4: An expression is a combination of values, variables, operators and/or call to functions. \n",
    "Expressions need to be evaluated which the interpreter does and displays the result when asked to.\n",
    "\n",
    "5: An expression is a combination of values, variables, operators and/or call to functions which has some value which the interpreter evaluates. Whereas a statement is a unit of code that has an effect in the piece of program, which the interpreter follows. Statements dont have any values to be evaluated.\n",
    "\n",
    "6: The variable bacon contains value 23.\n",
    "\n",
    "7: The value of both the terms is 'spamspamspam'.\n",
    "\n",
    "8: A variable should start with a letter or an underscore and cannot start with a number. So here 'eggs' starts with an E so it is valid whereas 100 is an interger so it is invalid to use as a variable name.\n",
    "\n",
    "9: The 3 functions that can be used to get the integer, floating-point number or sting version of a value are int(), float() and str() respectively.\n",
    "\n",
    "10: One cannot concantenate an integer with a string directly without using a conversion function. The correct way to do so would be\n",
    "\n",
    "'I have eaten' +str(99)+ 'burritos.'\n"
   ]
  }
 ],
 "metadata": {
  "kernelspec": {
   "display_name": "Python 3 (ipykernel)",
   "language": "python",
   "name": "python3"
  },
  "language_info": {
   "codemirror_mode": {
    "name": "ipython",
    "version": 3
   },
   "file_extension": ".py",
   "mimetype": "text/x-python",
   "name": "python",
   "nbconvert_exporter": "python",
   "pygments_lexer": "ipython3",
   "version": "3.9.12"
  }
 },
 "nbformat": 4,
 "nbformat_minor": 5
}
